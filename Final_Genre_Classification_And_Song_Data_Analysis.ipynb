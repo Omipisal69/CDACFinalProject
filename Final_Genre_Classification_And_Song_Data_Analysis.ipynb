{
 "cells": [
  {
   "cell_type": "code",
   "execution_count": 1,
   "id": "5f51599f",
   "metadata": {},
   "outputs": [
    {
     "name": "stdout",
     "output_type": "stream",
     "text": [
      "Requirement already satisfied: pyspark in c:\\users\\pisal\\anaconda3\\lib\\site-packages (3.3.2)\n",
      "Requirement already satisfied: py4j==0.10.9.5 in c:\\users\\pisal\\anaconda3\\lib\\site-packages (from pyspark) (0.10.9.5)\n"
     ]
    }
   ],
   "source": [
    "# Installing pyspark on local machine\n",
    "!pip install pyspark "
   ]
  },
  {
   "cell_type": "code",
   "execution_count": 2,
   "id": "e1ca9291",
   "metadata": {},
   "outputs": [],
   "source": [
    "# Importing installed pyspark\n",
    "import pyspark"
   ]
  },
  {
   "cell_type": "code",
   "execution_count": 3,
   "id": "6816fd6a",
   "metadata": {},
   "outputs": [],
   "source": [
    "# Importing PySpark Session \n",
    "from pyspark.sql import SparkSession"
   ]
  },
  {
   "cell_type": "code",
   "execution_count": 4,
   "id": "3b12dff1",
   "metadata": {},
   "outputs": [],
   "source": [
    "# Creating Spark and setting a name for the application\n",
    "spark=SparkSession.builder.appName('Project').getOrCreate()"
   ]
  },
  {
   "cell_type": "code",
   "execution_count": 5,
   "id": "ef46aa69",
   "metadata": {},
   "outputs": [
    {
     "data": {
      "text/html": [
       "\n",
       "            <div>\n",
       "                <p><b>SparkSession - in-memory</b></p>\n",
       "                \n",
       "        <div>\n",
       "            <p><b>SparkContext</b></p>\n",
       "\n",
       "            <p><a href=\"http://MSI:4040\">Spark UI</a></p>\n",
       "\n",
       "            <dl>\n",
       "              <dt>Version</dt>\n",
       "                <dd><code>v3.3.2</code></dd>\n",
       "              <dt>Master</dt>\n",
       "                <dd><code>local[*]</code></dd>\n",
       "              <dt>AppName</dt>\n",
       "                <dd><code>Project</code></dd>\n",
       "            </dl>\n",
       "        </div>\n",
       "        \n",
       "            </div>\n",
       "        "
      ],
      "text/plain": [
       "<pyspark.sql.session.SparkSession at 0x1ef66d1b1c0>"
      ]
     },
     "execution_count": 5,
     "metadata": {},
     "output_type": "execute_result"
    }
   ],
   "source": [
    "spark.conf.set(\"spark.sql.execution.arrow.enabled\", \"true\")\n",
    "spark"
   ]
  },
  {
   "cell_type": "markdown",
   "id": "c8fc9bea",
   "metadata": {},
   "source": [
    "REMOVING STRUCTURAL ERRORS FROM DATASET"
   ]
  },
  {
   "cell_type": "code",
   "execution_count": 6,
   "id": "a73288cc",
   "metadata": {},
   "outputs": [],
   "source": [
    "# Replacing Column number with header name \n",
    "music=spark.read.option('header','true').csv(r'C:\\Users\\pisal\\OneDrive\\Desktop\\8_march_project\\final_spotify.csv')"
   ]
  },
  {
   "cell_type": "code",
   "execution_count": 7,
   "id": "e7e9ae51",
   "metadata": {},
   "outputs": [
    {
     "data": {
      "text/plain": [
       "DataFrame[index_id: string, track_id: string, artists: string, album_name: string, track_name: string, popularity: string, duration_ms: string, explicit: string, danceability: string, energy: string, key: string, loudness: string, mode: string, speechiness: string, acousticness: string, instrumentalness: string, liveness: string, valence: string, tempo: string, time_signature: string, track_genre: string, spotify_release_date: string]"
      ]
     },
     "execution_count": 7,
     "metadata": {},
     "output_type": "execute_result"
    }
   ],
   "source": [
    "music"
   ]
  },
  {
   "cell_type": "code",
   "execution_count": 8,
   "id": "288b5e30",
   "metadata": {},
   "outputs": [
    {
     "name": "stdout",
     "output_type": "stream",
     "text": [
      "+--------+--------------------+--------------------+--------------------+--------------------+----------+-----------+--------+------------+------+---+--------+----+-----------+------------+----------------+--------+-------+-------+--------------+-----------+--------------------+\n",
      "|index_id|            track_id|             artists|          album_name|          track_name|popularity|duration_ms|explicit|danceability|energy|key|loudness|mode|speechiness|acousticness|instrumentalness|liveness|valence|  tempo|time_signature|track_genre|spotify_release_date|\n",
      "+--------+--------------------+--------------------+--------------------+--------------------+----------+-----------+--------+------------+------+---+--------+----+-----------+------------+----------------+--------+-------+-------+--------------+-----------+--------------------+\n",
      "|       0|5SuOikwiRyPMVoIQD...|         Gen Hoshino|              Comedy|              Comedy|        73|     230666|   FALSE|       0.676| 0.461|  1|  -6.746|   0|      0.143|      0.0322|        1.01E-06|   0.358|  0.715| 87.917|             4|   acoustic|          2016-12-31|\n",
      "|       1|4qPNDBW1i3p13qLCt...|        Ben Woodward|    Ghost (Acoustic)|    Ghost - Acoustic|        55|     149610|   FALSE|        0.42| 0.166|  1| -17.235|   1|     0.0763|       0.924|        5.56E-06|   0.101|  0.267| 77.489|             4|   acoustic|          2009-02-23|\n",
      "|       2|1iJBSr7s7jYXzM8EG...|Ingrid Michaelson...|      To Begin Again|      To Begin Again|        57|     210826|   FALSE|       0.438| 0.359|  0|  -9.734|   1|     0.0557|        0.21|               0|   0.117|   0.12| 76.332|             4|   acoustic|          2014-03-26|\n",
      "|       3|6lfxq3CG4xtTiEg7o...|        Kina Grannis|Crazy Rich Asians...|Can't Help Fallin...|        71|     201933|   FALSE|       0.266|0.0596|  0| -18.515|   1|     0.0363|       0.905|        7.07E-05|   0.132|  0.143| 181.74|             3|   acoustic|          2013-02-01|\n",
      "|       4|5vjLSffimiIP26QG5...|    Chord Overstreet|             Hold On|             Hold On|        82|     198853|   FALSE|       0.618| 0.443|  2|  -9.681|   1|     0.0526|       0.469|               0|  0.0829|  0.167|119.949|             4|   acoustic|          2011-12-14|\n",
      "|       5|01MVOl9KtVTNfFiBU...|        Tyrone Wells|Days I Will Remember|Days I Will Remember|        58|     214240|   FALSE|       0.688| 0.481|  6|  -8.807|   1|      0.105|       0.289|               0|   0.189|  0.666| 98.017|             4|   acoustic|          2013-08-31|\n",
      "|       6|6Vc5wAMmXdKIAM7WU...|A Great Big World...|Is There Anybody ...|       Say Something|        74|     229400|   FALSE|       0.407| 0.147|  2|  -8.822|   1|     0.0355|       0.857|        2.89E-06|  0.0913| 0.0765|141.284|             3|   acoustic|          2020-08-23|\n",
      "|       7|1EzrEOXmMH3G43AXT...|          Jason Mraz|We Sing. We Dance...|           I'm Yours|        80|     242946|   FALSE|       0.703| 0.444| 11|  -9.331|   1|     0.0417|       0.559|               0|  0.0973|  0.712| 150.96|             4|   acoustic|          2019-08-29|\n",
      "|       8|0IktbUcnAGrvD03AW...|Jason Mraz;Colbie...|We Sing. We Dance...|               Lucky|        74|     189613|   FALSE|       0.625| 0.414|  0|    -8.7|   1|     0.0369|       0.294|               0|   0.151|  0.669|130.088|             4|   acoustic|          2018-03-18|\n",
      "|       9|7k9GuJYLp2AzqokyE...|      Ross Copperman|              Hunger|              Hunger|        56|     205594|   FALSE|       0.442| 0.632|  1|   -6.77|   1|     0.0295|       0.426|         0.00419|  0.0735|  0.196| 78.899|             4|   acoustic|          2011-11-21|\n",
      "|      10|4mzP5mHkRvGxdhdGd...|        Zack Tabudlo|             Episode|Give Me Your Forever|        74|     244800|   FALSE|       0.627| 0.363|  8|  -8.127|   1|     0.0291|       0.279|               0|  0.0928|  0.301| 99.905|             4|   acoustic|          2019-01-05|\n",
      "|      11|5ivF4eQBqJiVL5IAE...|          Jason Mraz|Love Is a Four Le...|     I Won't Give Up|        69|     240165|   FALSE|       0.483| 0.303|  4| -10.058|   1|     0.0429|       0.694|               0|   0.115|  0.139|133.406|             3|   acoustic|          2018-09-30|\n",
      "|      12|4ptDJbJl35d7gQfeN...|            Dan Berk|                Solo|                Solo|        52|     198712|   FALSE|       0.489| 0.314|  7|  -9.245|   0|     0.0331|       0.749|               0|   0.113|  0.607|124.234|             4|   acoustic|          2016-05-11|\n",
      "|      13|0X9MxHR1rTkEHDjp9...|       Anna Hamilton|            Bad Liar|            Bad Liar|        62|     248448|   FALSE|       0.691| 0.234|  3|  -6.441|   1|     0.0285|       0.777|               0|    0.12|  0.209| 87.103|             4|   acoustic|          2019-05-29|\n",
      "|      14|4LbWtBkN82ZRhz9jq...|Chord Overstreet;...|     Hold On (Remix)|     Hold On - Remix|        56|     188133|   FALSE|       0.755|  0.78|  2|  -6.084|   1|     0.0327|       0.124|        2.83E-05|   0.121|  0.387|120.004|             4|   acoustic|          2014-09-30|\n",
      "|      15|1KHdq8NK9QxnGjdXb...|         Landon Pigg|   The Boy Who Never|Falling in Love a...|        58|     244986|   FALSE|       0.489| 0.561|  4|  -7.933|   1|     0.0274|         0.2|        4.56E-05|   0.179|  0.238| 83.457|             3|   acoustic|          2017-06-20|\n",
      "|      16|6xKeQgzfjixSUld14...|Andrew Foy;Renee Foy|ily (i love you b...|ily (i love you b...|        56|     129750|   FALSE|       0.706| 0.112|  2| -18.098|   1|     0.0391|       0.827|        4.03E-06|   0.125|  0.414|110.154|             4|   acoustic|          2018-03-20|\n",
      "|      17|4Yo0igmcoNyat1sec...|Andrew Foy;Renee Foy|         At My Worst|         At My Worst|        54|     169728|   FALSE|       0.795|0.0841| 10|  -18.09|   0|     0.0461|       0.742|        1.17E-05|  0.0853|  0.609| 91.803|             4|   acoustic|          2013-10-23|\n",
      "|      18|2qLMf6TuEC3ruGJg4...|Jason Mraz;Colbie...|We Sing. We Dance...|               Lucky|        68|     189613|   FALSE|       0.625| 0.414|  0|    -8.7|   1|     0.0369|       0.294|               0|   0.151|  0.669|130.088|             4|   acoustic|          2015-01-14|\n",
      "|      19|6CgNoAbFJ4Q4Id4Ej...|Boyce Avenue;Bea ...|Cover Sessions, V...|          Photograph|        67|     260186|   FALSE|       0.717|  0.32|  3|  -8.393|   1|     0.0283|        0.83|               0|   0.107|  0.322|107.946|             4|   acoustic|          2017-11-30|\n",
      "+--------+--------------------+--------------------+--------------------+--------------------+----------+-----------+--------+------------+------+---+--------+----+-----------+------------+----------------+--------+-------+-------+--------------+-----------+--------------------+\n",
      "only showing top 20 rows\n",
      "\n"
     ]
    }
   ],
   "source": [
    "#displaying the edited file\n",
    "music.show()"
   ]
  },
  {
   "cell_type": "code",
   "execution_count": 9,
   "id": "c5a7fa87",
   "metadata": {},
   "outputs": [
    {
     "name": "stdout",
     "output_type": "stream",
     "text": [
      "root\n",
      " |-- index_id: string (nullable = true)\n",
      " |-- track_id: string (nullable = true)\n",
      " |-- artists: string (nullable = true)\n",
      " |-- album_name: string (nullable = true)\n",
      " |-- track_name: string (nullable = true)\n",
      " |-- popularity: string (nullable = true)\n",
      " |-- duration_ms: string (nullable = true)\n",
      " |-- explicit: string (nullable = true)\n",
      " |-- danceability: string (nullable = true)\n",
      " |-- energy: string (nullable = true)\n",
      " |-- key: string (nullable = true)\n",
      " |-- loudness: string (nullable = true)\n",
      " |-- mode: string (nullable = true)\n",
      " |-- speechiness: string (nullable = true)\n",
      " |-- acousticness: string (nullable = true)\n",
      " |-- instrumentalness: string (nullable = true)\n",
      " |-- liveness: string (nullable = true)\n",
      " |-- valence: string (nullable = true)\n",
      " |-- tempo: string (nullable = true)\n",
      " |-- time_signature: string (nullable = true)\n",
      " |-- track_genre: string (nullable = true)\n",
      " |-- spotify_release_date: string (nullable = true)\n",
      "\n"
     ]
    }
   ],
   "source": [
    "## Check the schema of the dataset\n",
    "music.printSchema()"
   ]
  },
  {
   "cell_type": "markdown",
   "id": "f35259ba",
   "metadata": {},
   "source": [
    "TYPECASTING to use data in valid datatype"
   ]
  },
  {
   "cell_type": "code",
   "execution_count": 10,
   "id": "24b6fd09",
   "metadata": {},
   "outputs": [],
   "source": [
    "# Changing the datatype of the columns\n",
    "from pyspark.sql.types import IntegerType\n",
    "from pyspark.sql.types import DoubleType\n",
    "from pyspark.sql.types import BooleanType\n",
    "from pyspark.sql.types import DateType\n",
    "\n",
    "music = music.withColumn(\"popularity\",music[\"popularity\"].cast(IntegerType()))\n",
    "music = music.withColumn(\"duration_ms\",music[\"duration_ms\"].cast(DoubleType()))\n",
    "music = music.withColumn(\"explicit\",music[\"explicit\"].cast(BooleanType()))\n",
    "music = music.withColumn(\"danceability\",music[\"danceability\"].cast(DoubleType()))\n",
    "music = music.withColumn(\"energy\",music[\"energy\"].cast(DoubleType()))\n",
    "music = music.withColumn(\"key\",music[\"key\"].cast(IntegerType()))\n",
    "music = music.withColumn(\"loudness\",music[\"loudness\"].cast(DoubleType()))\n",
    "music = music.withColumn(\"mode\",music[\"mode\"].cast(BooleanType()))\n",
    "music = music.withColumn(\"speechiness\",music[\"speechiness\"].cast(DoubleType()))\n",
    "music = music.withColumn(\"acousticness\",music[\"acousticness\"].cast(DoubleType()))\n",
    "music = music.withColumn(\"instrumentalness\",music[\"instrumentalness\"].cast(DoubleType()))\n",
    "music = music.withColumn(\"liveness\",music[\"liveness\"].cast(DoubleType()))\n",
    "music = music.withColumn(\"valence\",music[\"valence\"].cast(DoubleType()))\n",
    "music = music.withColumn(\"spotify_release_date\",music[\"spotify_release_date\"].cast(DateType()))\n",
    "music = music.withColumn(\"tempo\",music[\"tempo\"].cast(DoubleType()))\n",
    "music = music.withColumn(\"time_signature\",music[\"time_signature\"].cast(DoubleType()))"
   ]
  },
  {
   "cell_type": "code",
   "execution_count": 11,
   "id": "1abbaa31",
   "metadata": {},
   "outputs": [
    {
     "name": "stdout",
     "output_type": "stream",
     "text": [
      "+-----------+-----+\n",
      "|track_genre|count|\n",
      "+-----------+-----+\n",
      "|      anime| 1000|\n",
      "|          3|   23|\n",
      "|      0.576|    1|\n",
      "|alternative| 1000|\n",
      "|death-metal| 1000|\n",
      "|     74.077|    1|\n",
      "|    105.188|    1|\n",
      "|     68.958|    2|\n",
      "|    ambient| 1000|\n",
      "|   cantopop| 1000|\n",
      "|      blues| 1000|\n",
      "|  breakbeat| 1000|\n",
      "|     68.453|    1|\n",
      "|      dance| 1000|\n",
      "|     brazil| 1000|\n",
      "|    151.539|    1|\n",
      "|     117.11|    1|\n",
      "|     76.791|    1|\n",
      "|      chill| 1000|\n",
      "|  bluegrass| 1000|\n",
      "+-----------+-----+\n",
      "only showing top 20 rows\n",
      "\n"
     ]
    }
   ],
   "source": [
    "music.groupBy(\"track_genre\").count().show()"
   ]
  },
  {
   "cell_type": "code",
   "execution_count": 12,
   "id": "f9cf04be",
   "metadata": {
    "scrolled": true
   },
   "outputs": [
    {
     "name": "stdout",
     "output_type": "stream",
     "text": [
      "root\n",
      " |-- index_id: string (nullable = true)\n",
      " |-- track_id: string (nullable = true)\n",
      " |-- artists: string (nullable = true)\n",
      " |-- album_name: string (nullable = true)\n",
      " |-- track_name: string (nullable = true)\n",
      " |-- popularity: integer (nullable = true)\n",
      " |-- duration_ms: double (nullable = true)\n",
      " |-- explicit: boolean (nullable = true)\n",
      " |-- danceability: double (nullable = true)\n",
      " |-- energy: double (nullable = true)\n",
      " |-- key: integer (nullable = true)\n",
      " |-- loudness: double (nullable = true)\n",
      " |-- mode: boolean (nullable = true)\n",
      " |-- speechiness: double (nullable = true)\n",
      " |-- acousticness: double (nullable = true)\n",
      " |-- instrumentalness: double (nullable = true)\n",
      " |-- liveness: double (nullable = true)\n",
      " |-- valence: double (nullable = true)\n",
      " |-- tempo: double (nullable = true)\n",
      " |-- time_signature: double (nullable = true)\n",
      " |-- track_genre: string (nullable = true)\n",
      " |-- spotify_release_date: date (nullable = true)\n",
      "\n"
     ]
    }
   ],
   "source": [
    "# to verify whether the data types are changed or not\n",
    "music.printSchema()"
   ]
  },
  {
   "cell_type": "markdown",
   "id": "e7816a6c",
   "metadata": {},
   "source": [
    "REMOVING THE NULL VALUES"
   ]
  },
  {
   "cell_type": "code",
   "execution_count": 13,
   "id": "0a97bee3",
   "metadata": {},
   "outputs": [
    {
     "data": {
      "text/plain": [
       "113865"
      ]
     },
     "execution_count": 13,
     "metadata": {},
     "output_type": "execute_result"
    }
   ],
   "source": [
    "# Deleting null values\n",
    "music.na.drop(how='any').count()"
   ]
  },
  {
   "cell_type": "markdown",
   "id": "c824767e",
   "metadata": {},
   "source": [
    "Total 135 rows with any null value are deleted"
   ]
  },
  {
   "cell_type": "code",
   "execution_count": 14,
   "id": "99de511b",
   "metadata": {},
   "outputs": [
    {
     "name": "stdout",
     "output_type": "stream",
     "text": [
      "+--------+----------------------+------------------------------------+------------------------------------------------------+--------------------------------+----------+-----------+--------+------------+------+---+--------+-----+-----------+------------+----------------+--------+-------+-------+--------------+-----------+--------------------+\n",
      "|index_id|track_id              |artists                             |album_name                                            |track_name                      |popularity|duration_ms|explicit|danceability|energy|key|loudness|mode |speechiness|acousticness|instrumentalness|liveness|valence|tempo  |time_signature|track_genre|spotify_release_date|\n",
      "+--------+----------------------+------------------------------------+------------------------------------------------------+--------------------------------+----------+-----------+--------+------------+------+---+--------+-----+-----------+------------+----------------+--------+-------+-------+--------------+-----------+--------------------+\n",
      "|0       |5SuOikwiRyPMVoIQDJUgSV|Gen Hoshino                         |Comedy                                                |Comedy                          |73        |230666.0   |false   |0.676       |0.461 |1  |-6.746  |false|0.143      |0.0322      |1.01E-6         |0.358   |0.715  |87.917 |4.0           |acoustic   |2016-12-31          |\n",
      "|1       |4qPNDBW1i3p13qLCt0Ki3A|Ben Woodward                        |Ghost (Acoustic)                                      |Ghost - Acoustic                |55        |149610.0   |false   |0.42        |0.166 |1  |-17.235 |true |0.0763     |0.924       |5.56E-6         |0.101   |0.267  |77.489 |4.0           |acoustic   |2009-02-23          |\n",
      "|2       |1iJBSr7s7jYXzM8EGcbK5b|Ingrid Michaelson;ZAYN              |To Begin Again                                        |To Begin Again                  |57        |210826.0   |false   |0.438       |0.359 |0  |-9.734  |true |0.0557     |0.21        |0.0             |0.117   |0.12   |76.332 |4.0           |acoustic   |2014-03-26          |\n",
      "|3       |6lfxq3CG4xtTiEg7opyCyx|Kina Grannis                        |Crazy Rich Asians (Original Motion Picture Soundtrack)|Can't Help Falling In Love      |71        |201933.0   |false   |0.266       |0.0596|0  |-18.515 |true |0.0363     |0.905       |7.07E-5         |0.132   |0.143  |181.74 |3.0           |acoustic   |2013-02-01          |\n",
      "|4       |5vjLSffimiIP26QG5WcN2K|Chord Overstreet                    |Hold On                                               |Hold On                         |82        |198853.0   |false   |0.618       |0.443 |2  |-9.681  |true |0.0526     |0.469       |0.0             |0.0829  |0.167  |119.949|4.0           |acoustic   |2011-12-14          |\n",
      "|5       |01MVOl9KtVTNfFiBU9I7dc|Tyrone Wells                        |Days I Will Remember                                  |Days I Will Remember            |58        |214240.0   |false   |0.688       |0.481 |6  |-8.807  |true |0.105      |0.289       |0.0             |0.189   |0.666  |98.017 |4.0           |acoustic   |2013-08-31          |\n",
      "|6       |6Vc5wAMmXdKIAM7WUoEb7N|A Great Big World;Christina Aguilera|Is There Anybody Out There?                           |Say Something                   |74        |229400.0   |false   |0.407       |0.147 |2  |-8.822  |true |0.0355     |0.857       |2.89E-6         |0.0913  |0.0765 |141.284|3.0           |acoustic   |2020-08-23          |\n",
      "|7       |1EzrEOXmMH3G43AXT1y7pA|Jason Mraz                          |We Sing. We Dance. We Steal Things.                   |I'm Yours                       |80        |242946.0   |false   |0.703       |0.444 |11 |-9.331  |true |0.0417     |0.559       |0.0             |0.0973  |0.712  |150.96 |4.0           |acoustic   |2019-08-29          |\n",
      "|8       |0IktbUcnAGrvD03AWnz3Q8|Jason Mraz;Colbie Caillat           |We Sing. We Dance. We Steal Things.                   |Lucky                           |74        |189613.0   |false   |0.625       |0.414 |0  |-8.7    |true |0.0369     |0.294       |0.0             |0.151   |0.669  |130.088|4.0           |acoustic   |2018-03-18          |\n",
      "|9       |7k9GuJYLp2AzqokyEdwEw2|Ross Copperman                      |Hunger                                                |Hunger                          |56        |205594.0   |false   |0.442       |0.632 |1  |-6.77   |true |0.0295     |0.426       |0.00419         |0.0735  |0.196  |78.899 |4.0           |acoustic   |2011-11-21          |\n",
      "|10      |4mzP5mHkRvGxdhdGdAH7EJ|Zack Tabudlo                        |Episode                                               |Give Me Your Forever            |74        |244800.0   |false   |0.627       |0.363 |8  |-8.127  |true |0.0291     |0.279       |0.0             |0.0928  |0.301  |99.905 |4.0           |acoustic   |2019-01-05          |\n",
      "|11      |5ivF4eQBqJiVL5IAE9jRyl|Jason Mraz                          |Love Is a Four Letter Word                            |I Won't Give Up                 |69        |240165.0   |false   |0.483       |0.303 |4  |-10.058 |true |0.0429     |0.694       |0.0             |0.115   |0.139  |133.406|3.0           |acoustic   |2018-09-30          |\n",
      "|12      |4ptDJbJl35d7gQfeNteBwp|Dan Berk                            |Solo                                                  |Solo                            |52        |198712.0   |false   |0.489       |0.314 |7  |-9.245  |false|0.0331     |0.749       |0.0             |0.113   |0.607  |124.234|4.0           |acoustic   |2016-05-11          |\n",
      "|13      |0X9MxHR1rTkEHDjp95F2OO|Anna Hamilton                       |Bad Liar                                              |Bad Liar                        |62        |248448.0   |false   |0.691       |0.234 |3  |-6.441  |true |0.0285     |0.777       |0.0             |0.12    |0.209  |87.103 |4.0           |acoustic   |2019-05-29          |\n",
      "|14      |4LbWtBkN82ZRhz9jqzgrb3|Chord Overstreet;Deepend            |Hold On (Remix)                                       |Hold On - Remix                 |56        |188133.0   |false   |0.755       |0.78  |2  |-6.084  |true |0.0327     |0.124       |2.83E-5         |0.121   |0.387  |120.004|4.0           |acoustic   |2014-09-30          |\n",
      "|15      |1KHdq8NK9QxnGjdXb55NiG|Landon Pigg                         |The Boy Who Never                                     |Falling in Love at a Coffee Shop|58        |244986.0   |false   |0.489       |0.561 |4  |-7.933  |true |0.0274     |0.2         |4.56E-5         |0.179   |0.238  |83.457 |3.0           |acoustic   |2017-06-20          |\n",
      "|16      |6xKeQgzfjixSUld14qUezm|Andrew Foy;Renee Foy                |ily (i love you baby)                                 |ily (i love you baby)           |56        |129750.0   |false   |0.706       |0.112 |2  |-18.098 |true |0.0391     |0.827       |4.03E-6         |0.125   |0.414  |110.154|4.0           |acoustic   |2018-03-20          |\n",
      "|17      |4Yo0igmcoNyat1secaH0OD|Andrew Foy;Renee Foy                |At My Worst                                           |At My Worst                     |54        |169728.0   |false   |0.795       |0.0841|10 |-18.09  |false|0.0461     |0.742       |1.17E-5         |0.0853  |0.609  |91.803 |4.0           |acoustic   |2013-10-23          |\n",
      "|18      |2qLMf6TuEC3ruGJg4SMMN6|Jason Mraz;Colbie Caillat           |We Sing. We Dance. We Steal Things.                   |Lucky                           |68        |189613.0   |false   |0.625       |0.414 |0  |-8.7    |true |0.0369     |0.294       |0.0             |0.151   |0.669  |130.088|4.0           |acoustic   |2015-01-14          |\n",
      "|19      |6CgNoAbFJ4Q4Id4EjtbXlC|Boyce Avenue;Bea Miller             |Cover Sessions, Vol. 4                                |Photograph                      |67        |260186.0   |false   |0.717       |0.32  |3  |-8.393  |true |0.0283     |0.83        |0.0             |0.107   |0.322  |107.946|4.0           |acoustic   |2017-11-30          |\n",
      "+--------+----------------------+------------------------------------+------------------------------------------------------+--------------------------------+----------+-----------+--------+------------+------+---+--------+-----+-----------+------------+----------------+--------+-------+-------+--------------+-----------+--------------------+\n",
      "only showing top 20 rows\n",
      "\n"
     ]
    }
   ],
   "source": [
    "music.show(truncate=False)"
   ]
  },
  {
   "cell_type": "code",
   "execution_count": 15,
   "id": "f38a3d71",
   "metadata": {},
   "outputs": [
    {
     "name": "stdout",
     "output_type": "stream",
     "text": [
      "root\n",
      " |-- index_id: string (nullable = true)\n",
      " |-- track_id: string (nullable = true)\n",
      " |-- artists: string (nullable = true)\n",
      " |-- album_name: string (nullable = true)\n",
      " |-- track_name: string (nullable = true)\n",
      " |-- popularity: integer (nullable = true)\n",
      " |-- duration_ms: double (nullable = true)\n",
      " |-- explicit: boolean (nullable = true)\n",
      " |-- danceability: double (nullable = true)\n",
      " |-- energy: double (nullable = true)\n",
      " |-- key: integer (nullable = true)\n",
      " |-- loudness: double (nullable = true)\n",
      " |-- mode: boolean (nullable = true)\n",
      " |-- speechiness: double (nullable = true)\n",
      " |-- acousticness: double (nullable = true)\n",
      " |-- instrumentalness: double (nullable = true)\n",
      " |-- liveness: double (nullable = true)\n",
      " |-- valence: double (nullable = true)\n",
      " |-- tempo: double (nullable = true)\n",
      " |-- time_signature: double (nullable = true)\n",
      " |-- track_genre: string (nullable = true)\n",
      " |-- spotify_release_date: date (nullable = true)\n",
      "\n"
     ]
    }
   ],
   "source": [
    "music.printSchema()"
   ]
  },
  {
   "cell_type": "markdown",
   "id": "62abd937",
   "metadata": {},
   "source": [
    "FEATURE EXTRACTION "
   ]
  },
  {
   "cell_type": "code",
   "execution_count": 16,
   "id": "9f171e0b",
   "metadata": {},
   "outputs": [],
   "source": [
    "from pyspark.sql.functions import col\n",
    "\n",
    "X = music.drop(\"track_id\", \"index_id\", \"artists\", \"album_name\", \"track_name\", \"track_genre\", \"duration_ms\", \"explicit\", \"key\",\"mode\", \"spotify_release_date\")\n",
    "\n",
    "X = X.select([col(c).cast(\"double\") for c in X.columns])  # convert columns to double type\n",
    "\n",
    "y = music.select(\"track_genre\")"
   ]
  },
  {
   "cell_type": "code",
   "execution_count": 17,
   "id": "f56d5611",
   "metadata": {},
   "outputs": [
    {
     "name": "stdout",
     "output_type": "stream",
     "text": [
      "root\n",
      " |-- popularity: double (nullable = true)\n",
      " |-- danceability: double (nullable = true)\n",
      " |-- energy: double (nullable = true)\n",
      " |-- loudness: double (nullable = true)\n",
      " |-- speechiness: double (nullable = true)\n",
      " |-- acousticness: double (nullable = true)\n",
      " |-- instrumentalness: double (nullable = true)\n",
      " |-- liveness: double (nullable = true)\n",
      " |-- valence: double (nullable = true)\n",
      " |-- tempo: double (nullable = true)\n",
      " |-- time_signature: double (nullable = true)\n",
      "\n"
     ]
    }
   ],
   "source": [
    "X.printSchema()"
   ]
  },
  {
   "cell_type": "code",
   "execution_count": 18,
   "id": "4d65542d",
   "metadata": {},
   "outputs": [],
   "source": [
    "from pyspark.ml.linalg import Vector \n",
    "from pyspark.ml.feature import VectorAssembler"
   ]
  },
  {
   "cell_type": "code",
   "execution_count": 19,
   "id": "dbe70f66",
   "metadata": {},
   "outputs": [
    {
     "data": {
      "text/plain": [
       "['popularity',\n",
       " 'danceability',\n",
       " 'energy',\n",
       " 'loudness',\n",
       " 'speechiness',\n",
       " 'acousticness',\n",
       " 'instrumentalness',\n",
       " 'liveness',\n",
       " 'valence',\n",
       " 'tempo',\n",
       " 'time_signature']"
      ]
     },
     "execution_count": 19,
     "metadata": {},
     "output_type": "execute_result"
    }
   ],
   "source": [
    "X.columns"
   ]
  },
  {
   "cell_type": "code",
   "execution_count": 20,
   "id": "15c8e3db",
   "metadata": {},
   "outputs": [],
   "source": [
    "assembler = VectorAssembler(inputCols = ['popularity','danceability','energy','loudness','speechiness','acousticness','instrumentalness','liveness','valence','tempo','time_signature'], outputCol=\"features\")"
   ]
  },
  {
   "cell_type": "code",
   "execution_count": 21,
   "id": "46b556f1",
   "metadata": {},
   "outputs": [],
   "source": [
    "assembled_data=assembler.setHandleInvalid(\"skip\").transform(X)"
   ]
  },
  {
   "cell_type": "code",
   "execution_count": 22,
   "id": "53be0b45",
   "metadata": {},
   "outputs": [
    {
     "name": "stdout",
     "output_type": "stream",
     "text": [
      "+----------+------------+------+--------+-----------+------------+----------------+--------+-------+-------+--------------+------------------------------------------------------------------------+\n",
      "|popularity|danceability|energy|loudness|speechiness|acousticness|instrumentalness|liveness|valence|tempo  |time_signature|features                                                                |\n",
      "+----------+------------+------+--------+-----------+------------+----------------+--------+-------+-------+--------------+------------------------------------------------------------------------+\n",
      "|73.0      |0.676       |0.461 |-6.746  |0.143      |0.0322      |1.01E-6         |0.358   |0.715  |87.917 |4.0           |[73.0,0.676,0.461,-6.746,0.143,0.0322,1.01E-6,0.358,0.715,87.917,4.0]   |\n",
      "|55.0      |0.42        |0.166 |-17.235 |0.0763     |0.924       |5.56E-6         |0.101   |0.267  |77.489 |4.0           |[55.0,0.42,0.166,-17.235,0.0763,0.924,5.56E-6,0.101,0.267,77.489,4.0]   |\n",
      "|57.0      |0.438       |0.359 |-9.734  |0.0557     |0.21        |0.0             |0.117   |0.12   |76.332 |4.0           |[57.0,0.438,0.359,-9.734,0.0557,0.21,0.0,0.117,0.12,76.332,4.0]         |\n",
      "|71.0      |0.266       |0.0596|-18.515 |0.0363     |0.905       |7.07E-5         |0.132   |0.143  |181.74 |3.0           |[71.0,0.266,0.0596,-18.515,0.0363,0.905,7.07E-5,0.132,0.143,181.74,3.0] |\n",
      "|82.0      |0.618       |0.443 |-9.681  |0.0526     |0.469       |0.0             |0.0829  |0.167  |119.949|4.0           |[82.0,0.618,0.443,-9.681,0.0526,0.469,0.0,0.0829,0.167,119.949,4.0]     |\n",
      "|58.0      |0.688       |0.481 |-8.807  |0.105      |0.289       |0.0             |0.189   |0.666  |98.017 |4.0           |[58.0,0.688,0.481,-8.807,0.105,0.289,0.0,0.189,0.666,98.017,4.0]        |\n",
      "|74.0      |0.407       |0.147 |-8.822  |0.0355     |0.857       |2.89E-6         |0.0913  |0.0765 |141.284|3.0           |[74.0,0.407,0.147,-8.822,0.0355,0.857,2.89E-6,0.0913,0.0765,141.284,3.0]|\n",
      "|80.0      |0.703       |0.444 |-9.331  |0.0417     |0.559       |0.0             |0.0973  |0.712  |150.96 |4.0           |[80.0,0.703,0.444,-9.331,0.0417,0.559,0.0,0.0973,0.712,150.96,4.0]      |\n",
      "|74.0      |0.625       |0.414 |-8.7    |0.0369     |0.294       |0.0             |0.151   |0.669  |130.088|4.0           |[74.0,0.625,0.414,-8.7,0.0369,0.294,0.0,0.151,0.669,130.088,4.0]        |\n",
      "|56.0      |0.442       |0.632 |-6.77   |0.0295     |0.426       |0.00419         |0.0735  |0.196  |78.899 |4.0           |[56.0,0.442,0.632,-6.77,0.0295,0.426,0.00419,0.0735,0.196,78.899,4.0]   |\n",
      "|74.0      |0.627       |0.363 |-8.127  |0.0291     |0.279       |0.0             |0.0928  |0.301  |99.905 |4.0           |[74.0,0.627,0.363,-8.127,0.0291,0.279,0.0,0.0928,0.301,99.905,4.0]      |\n",
      "|69.0      |0.483       |0.303 |-10.058 |0.0429     |0.694       |0.0             |0.115   |0.139  |133.406|3.0           |[69.0,0.483,0.303,-10.058,0.0429,0.694,0.0,0.115,0.139,133.406,3.0]     |\n",
      "|52.0      |0.489       |0.314 |-9.245  |0.0331     |0.749       |0.0             |0.113   |0.607  |124.234|4.0           |[52.0,0.489,0.314,-9.245,0.0331,0.749,0.0,0.113,0.607,124.234,4.0]      |\n",
      "|62.0      |0.691       |0.234 |-6.441  |0.0285     |0.777       |0.0             |0.12    |0.209  |87.103 |4.0           |[62.0,0.691,0.234,-6.441,0.0285,0.777,0.0,0.12,0.209,87.103,4.0]        |\n",
      "|56.0      |0.755       |0.78  |-6.084  |0.0327     |0.124       |2.83E-5         |0.121   |0.387  |120.004|4.0           |[56.0,0.755,0.78,-6.084,0.0327,0.124,2.83E-5,0.121,0.387,120.004,4.0]   |\n",
      "|58.0      |0.489       |0.561 |-7.933  |0.0274     |0.2         |4.56E-5         |0.179   |0.238  |83.457 |3.0           |[58.0,0.489,0.561,-7.933,0.0274,0.2,4.56E-5,0.179,0.238,83.457,3.0]     |\n",
      "|56.0      |0.706       |0.112 |-18.098 |0.0391     |0.827       |4.03E-6         |0.125   |0.414  |110.154|4.0           |[56.0,0.706,0.112,-18.098,0.0391,0.827,4.03E-6,0.125,0.414,110.154,4.0] |\n",
      "|54.0      |0.795       |0.0841|-18.09  |0.0461     |0.742       |1.17E-5         |0.0853  |0.609  |91.803 |4.0           |[54.0,0.795,0.0841,-18.09,0.0461,0.742,1.17E-5,0.0853,0.609,91.803,4.0] |\n",
      "|68.0      |0.625       |0.414 |-8.7    |0.0369     |0.294       |0.0             |0.151   |0.669  |130.088|4.0           |[68.0,0.625,0.414,-8.7,0.0369,0.294,0.0,0.151,0.669,130.088,4.0]        |\n",
      "|67.0      |0.717       |0.32  |-8.393  |0.0283     |0.83        |0.0             |0.107   |0.322  |107.946|4.0           |[67.0,0.717,0.32,-8.393,0.0283,0.83,0.0,0.107,0.322,107.946,4.0]        |\n",
      "+----------+------------+------+--------+-----------+------------+----------------+--------+-------+-------+--------------+------------------------------------------------------------------------+\n",
      "only showing top 20 rows\n",
      "\n"
     ]
    }
   ],
   "source": [
    "assembled_data.show(truncate=False)"
   ]
  },
  {
   "cell_type": "code",
   "execution_count": 23,
   "id": "4cfc60d0",
   "metadata": {},
   "outputs": [],
   "source": [
    "from pyspark.ml.feature import StandardScaler"
   ]
  },
  {
   "cell_type": "code",
   "execution_count": 24,
   "id": "182e4d15",
   "metadata": {},
   "outputs": [],
   "source": [
    "scale=StandardScaler(inputCol='features',outputCol='standardized')"
   ]
  },
  {
   "cell_type": "code",
   "execution_count": 25,
   "id": "b04f5d46",
   "metadata": {},
   "outputs": [],
   "source": [
    "scaleModel = scale.fit(assembled_data)"
   ]
  },
  {
   "cell_type": "markdown",
   "id": "c36304f6",
   "metadata": {},
   "source": [
    "Model Selection and Fiting"
   ]
  },
  {
   "cell_type": "code",
   "execution_count": 26,
   "id": "afdad0f6",
   "metadata": {
    "scrolled": true
   },
   "outputs": [
    {
     "name": "stdout",
     "output_type": "stream",
     "text": [
      "+-----------+\n",
      "|track_genre|\n",
      "+-----------+\n",
      "|   acoustic|\n",
      "|   acoustic|\n",
      "|   acoustic|\n",
      "|   acoustic|\n",
      "|   acoustic|\n",
      "|   acoustic|\n",
      "|   acoustic|\n",
      "|   acoustic|\n",
      "|   acoustic|\n",
      "|   acoustic|\n",
      "|   acoustic|\n",
      "+-----------+\n",
      "only showing top 11 rows\n",
      "\n"
     ]
    }
   ],
   "source": [
    "music.select(\"track_genre\").show(11)"
   ]
  },
  {
   "cell_type": "markdown",
   "id": "ac2a2fe4",
   "metadata": {},
   "source": [
    "Logistic Regression"
   ]
  },
  {
   "cell_type": "code",
   "execution_count": 37,
   "id": "cc0e6152",
   "metadata": {
    "scrolled": false
   },
   "outputs": [
    {
     "ename": "ConnectionRefusedError",
     "evalue": "[WinError 10061] No connection could be made because the target machine actively refused it",
     "output_type": "error",
     "traceback": [
      "\u001b[1;31m---------------------------------------------------------------------------\u001b[0m",
      "\u001b[1;31mConnectionRefusedError\u001b[0m                    Traceback (most recent call last)",
      "\u001b[1;32m~\\AppData\\Local\\Temp\\ipykernel_15104\\3139050508.py\u001b[0m in \u001b[0;36m<module>\u001b[1;34m\u001b[0m\n\u001b[0;32m      4\u001b[0m \u001b[1;32mimport\u001b[0m \u001b[0mtime\u001b[0m\u001b[1;33m\u001b[0m\u001b[1;33m\u001b[0m\u001b[0m\n\u001b[0;32m      5\u001b[0m \u001b[1;31m# Drop the irrelevant columns\u001b[0m\u001b[1;33m\u001b[0m\u001b[1;33m\u001b[0m\u001b[0m\n\u001b[1;32m----> 6\u001b[1;33m data = music.drop('index_id','track_id', 'artists', 'album_name','mode',\n\u001b[0m\u001b[0;32m      7\u001b[0m                              'track_name','key','duration_ms','explicit', 'spotify_release_date')\n\u001b[0;32m      8\u001b[0m \u001b[1;33m\u001b[0m\u001b[0m\n",
      "\u001b[1;32m~\\anaconda3\\lib\\site-packages\\pyspark\\sql\\dataframe.py\u001b[0m in \u001b[0;36mdrop\u001b[1;34m(self, *cols)\u001b[0m\n\u001b[0;32m   3129\u001b[0m                 \u001b[1;32mif\u001b[0m \u001b[1;32mnot\u001b[0m \u001b[0misinstance\u001b[0m\u001b[1;33m(\u001b[0m\u001b[0mcol\u001b[0m\u001b[1;33m,\u001b[0m \u001b[0mstr\u001b[0m\u001b[1;33m)\u001b[0m\u001b[1;33m:\u001b[0m\u001b[1;33m\u001b[0m\u001b[1;33m\u001b[0m\u001b[0m\n\u001b[0;32m   3130\u001b[0m                     \u001b[1;32mraise\u001b[0m \u001b[0mTypeError\u001b[0m\u001b[1;33m(\u001b[0m\u001b[1;34m\"each col in the param list should be a string\"\u001b[0m\u001b[1;33m)\u001b[0m\u001b[1;33m\u001b[0m\u001b[1;33m\u001b[0m\u001b[0m\n\u001b[1;32m-> 3131\u001b[1;33m             \u001b[0mjdf\u001b[0m \u001b[1;33m=\u001b[0m \u001b[0mself\u001b[0m\u001b[1;33m.\u001b[0m\u001b[0m_jdf\u001b[0m\u001b[1;33m.\u001b[0m\u001b[0mdrop\u001b[0m\u001b[1;33m(\u001b[0m\u001b[0mself\u001b[0m\u001b[1;33m.\u001b[0m\u001b[0m_jseq\u001b[0m\u001b[1;33m(\u001b[0m\u001b[0mcols\u001b[0m\u001b[1;33m)\u001b[0m\u001b[1;33m)\u001b[0m\u001b[1;33m\u001b[0m\u001b[1;33m\u001b[0m\u001b[0m\n\u001b[0m\u001b[0;32m   3132\u001b[0m \u001b[1;33m\u001b[0m\u001b[0m\n\u001b[0;32m   3133\u001b[0m         \u001b[1;32mreturn\u001b[0m \u001b[0mDataFrame\u001b[0m\u001b[1;33m(\u001b[0m\u001b[0mjdf\u001b[0m\u001b[1;33m,\u001b[0m \u001b[0mself\u001b[0m\u001b[1;33m.\u001b[0m\u001b[0msparkSession\u001b[0m\u001b[1;33m)\u001b[0m\u001b[1;33m\u001b[0m\u001b[1;33m\u001b[0m\u001b[0m\n",
      "\u001b[1;32m~\\anaconda3\\lib\\site-packages\\pyspark\\sql\\dataframe.py\u001b[0m in \u001b[0;36m_jseq\u001b[1;34m(self, cols, converter)\u001b[0m\n\u001b[0;32m   1739\u001b[0m     ) -> JavaObject:\n\u001b[0;32m   1740\u001b[0m         \u001b[1;34m\"\"\"Return a JVM Seq of Columns from a list of Column or names\"\"\"\u001b[0m\u001b[1;33m\u001b[0m\u001b[1;33m\u001b[0m\u001b[0m\n\u001b[1;32m-> 1741\u001b[1;33m         \u001b[1;32mreturn\u001b[0m \u001b[0m_to_seq\u001b[0m\u001b[1;33m(\u001b[0m\u001b[0mself\u001b[0m\u001b[1;33m.\u001b[0m\u001b[0msparkSession\u001b[0m\u001b[1;33m.\u001b[0m\u001b[0m_sc\u001b[0m\u001b[1;33m,\u001b[0m \u001b[0mcols\u001b[0m\u001b[1;33m,\u001b[0m \u001b[0mconverter\u001b[0m\u001b[1;33m)\u001b[0m\u001b[1;33m\u001b[0m\u001b[1;33m\u001b[0m\u001b[0m\n\u001b[0m\u001b[0;32m   1742\u001b[0m \u001b[1;33m\u001b[0m\u001b[0m\n\u001b[0;32m   1743\u001b[0m     \u001b[1;32mdef\u001b[0m \u001b[0m_jmap\u001b[0m\u001b[1;33m(\u001b[0m\u001b[0mself\u001b[0m\u001b[1;33m,\u001b[0m \u001b[0mjm\u001b[0m\u001b[1;33m:\u001b[0m \u001b[0mDict\u001b[0m\u001b[1;33m)\u001b[0m \u001b[1;33m->\u001b[0m \u001b[0mJavaObject\u001b[0m\u001b[1;33m:\u001b[0m\u001b[1;33m\u001b[0m\u001b[1;33m\u001b[0m\u001b[0m\n",
      "\u001b[1;32m~\\anaconda3\\lib\\site-packages\\pyspark\\sql\\column.py\u001b[0m in \u001b[0;36m_to_seq\u001b[1;34m(sc, cols, converter)\u001b[0m\n\u001b[0;32m     86\u001b[0m         \u001b[0mcols\u001b[0m \u001b[1;33m=\u001b[0m \u001b[1;33m[\u001b[0m\u001b[0mconverter\u001b[0m\u001b[1;33m(\u001b[0m\u001b[0mc\u001b[0m\u001b[1;33m)\u001b[0m \u001b[1;32mfor\u001b[0m \u001b[0mc\u001b[0m \u001b[1;32min\u001b[0m \u001b[0mcols\u001b[0m\u001b[1;33m]\u001b[0m\u001b[1;33m\u001b[0m\u001b[1;33m\u001b[0m\u001b[0m\n\u001b[0;32m     87\u001b[0m     \u001b[1;32massert\u001b[0m \u001b[0msc\u001b[0m\u001b[1;33m.\u001b[0m\u001b[0m_jvm\u001b[0m \u001b[1;32mis\u001b[0m \u001b[1;32mnot\u001b[0m \u001b[1;32mNone\u001b[0m\u001b[1;33m\u001b[0m\u001b[1;33m\u001b[0m\u001b[0m\n\u001b[1;32m---> 88\u001b[1;33m     \u001b[1;32mreturn\u001b[0m \u001b[0msc\u001b[0m\u001b[1;33m.\u001b[0m\u001b[0m_jvm\u001b[0m\u001b[1;33m.\u001b[0m\u001b[0mPythonUtils\u001b[0m\u001b[1;33m.\u001b[0m\u001b[0mtoSeq\u001b[0m\u001b[1;33m(\u001b[0m\u001b[0mcols\u001b[0m\u001b[1;33m)\u001b[0m\u001b[1;33m\u001b[0m\u001b[1;33m\u001b[0m\u001b[0m\n\u001b[0m\u001b[0;32m     89\u001b[0m \u001b[1;33m\u001b[0m\u001b[0m\n\u001b[0;32m     90\u001b[0m \u001b[1;33m\u001b[0m\u001b[0m\n",
      "\u001b[1;32m~\\anaconda3\\lib\\site-packages\\py4j\\java_gateway.py\u001b[0m in \u001b[0;36m__getattr__\u001b[1;34m(self, name)\u001b[0m\n\u001b[0;32m   1707\u001b[0m             \u001b[1;32mreturn\u001b[0m \u001b[0mUserHelpAutoCompletion\u001b[0m\u001b[1;33m(\u001b[0m\u001b[1;33m)\u001b[0m\u001b[1;33m\u001b[0m\u001b[1;33m\u001b[0m\u001b[0m\n\u001b[0;32m   1708\u001b[0m \u001b[1;33m\u001b[0m\u001b[0m\n\u001b[1;32m-> 1709\u001b[1;33m         answer = self._gateway_client.send_command(\n\u001b[0m\u001b[0;32m   1710\u001b[0m             \u001b[0mproto\u001b[0m\u001b[1;33m.\u001b[0m\u001b[0mREFLECTION_COMMAND_NAME\u001b[0m \u001b[1;33m+\u001b[0m\u001b[1;33m\u001b[0m\u001b[1;33m\u001b[0m\u001b[0m\n\u001b[0;32m   1711\u001b[0m             \u001b[0mproto\u001b[0m\u001b[1;33m.\u001b[0m\u001b[0mREFL_GET_UNKNOWN_SUB_COMMAND_NAME\u001b[0m \u001b[1;33m+\u001b[0m \u001b[0mname\u001b[0m \u001b[1;33m+\u001b[0m \u001b[1;34m\"\\n\"\u001b[0m \u001b[1;33m+\u001b[0m \u001b[0mself\u001b[0m\u001b[1;33m.\u001b[0m\u001b[0m_id\u001b[0m \u001b[1;33m+\u001b[0m\u001b[1;33m\u001b[0m\u001b[1;33m\u001b[0m\u001b[0m\n",
      "\u001b[1;32m~\\anaconda3\\lib\\site-packages\\py4j\\java_gateway.py\u001b[0m in \u001b[0;36msend_command\u001b[1;34m(self, command, retry, binary)\u001b[0m\n\u001b[0;32m   1034\u001b[0m          \u001b[1;32mif\u001b[0m\u001b[0;31m \u001b[0m\u001b[0;31m`\u001b[0m\u001b[0mbinary\u001b[0m\u001b[0;31m`\u001b[0m \u001b[1;32mis\u001b[0m\u001b[0;31m \u001b[0m\u001b[0;31m`\u001b[0m\u001b[1;32mTrue\u001b[0m\u001b[0;31m`\u001b[0m\u001b[1;33m.\u001b[0m\u001b[1;33m\u001b[0m\u001b[1;33m\u001b[0m\u001b[0m\n\u001b[0;32m   1035\u001b[0m         \"\"\"\n\u001b[1;32m-> 1036\u001b[1;33m         \u001b[0mconnection\u001b[0m \u001b[1;33m=\u001b[0m \u001b[0mself\u001b[0m\u001b[1;33m.\u001b[0m\u001b[0m_get_connection\u001b[0m\u001b[1;33m(\u001b[0m\u001b[1;33m)\u001b[0m\u001b[1;33m\u001b[0m\u001b[1;33m\u001b[0m\u001b[0m\n\u001b[0m\u001b[0;32m   1037\u001b[0m         \u001b[1;32mtry\u001b[0m\u001b[1;33m:\u001b[0m\u001b[1;33m\u001b[0m\u001b[1;33m\u001b[0m\u001b[0m\n\u001b[0;32m   1038\u001b[0m             \u001b[0mresponse\u001b[0m \u001b[1;33m=\u001b[0m \u001b[0mconnection\u001b[0m\u001b[1;33m.\u001b[0m\u001b[0msend_command\u001b[0m\u001b[1;33m(\u001b[0m\u001b[0mcommand\u001b[0m\u001b[1;33m)\u001b[0m\u001b[1;33m\u001b[0m\u001b[1;33m\u001b[0m\u001b[0m\n",
      "\u001b[1;32m~\\anaconda3\\lib\\site-packages\\py4j\\clientserver.py\u001b[0m in \u001b[0;36m_get_connection\u001b[1;34m(self)\u001b[0m\n\u001b[0;32m    282\u001b[0m \u001b[1;33m\u001b[0m\u001b[0m\n\u001b[0;32m    283\u001b[0m         \u001b[1;32mif\u001b[0m \u001b[0mconnection\u001b[0m \u001b[1;32mis\u001b[0m \u001b[1;32mNone\u001b[0m \u001b[1;32mor\u001b[0m \u001b[0mconnection\u001b[0m\u001b[1;33m.\u001b[0m\u001b[0msocket\u001b[0m \u001b[1;32mis\u001b[0m \u001b[1;32mNone\u001b[0m\u001b[1;33m:\u001b[0m\u001b[1;33m\u001b[0m\u001b[1;33m\u001b[0m\u001b[0m\n\u001b[1;32m--> 284\u001b[1;33m             \u001b[0mconnection\u001b[0m \u001b[1;33m=\u001b[0m \u001b[0mself\u001b[0m\u001b[1;33m.\u001b[0m\u001b[0m_create_new_connection\u001b[0m\u001b[1;33m(\u001b[0m\u001b[1;33m)\u001b[0m\u001b[1;33m\u001b[0m\u001b[1;33m\u001b[0m\u001b[0m\n\u001b[0m\u001b[0;32m    285\u001b[0m         \u001b[1;32mreturn\u001b[0m \u001b[0mconnection\u001b[0m\u001b[1;33m\u001b[0m\u001b[1;33m\u001b[0m\u001b[0m\n\u001b[0;32m    286\u001b[0m \u001b[1;33m\u001b[0m\u001b[0m\n",
      "\u001b[1;32m~\\anaconda3\\lib\\site-packages\\py4j\\clientserver.py\u001b[0m in \u001b[0;36m_create_new_connection\u001b[1;34m(self)\u001b[0m\n\u001b[0;32m    289\u001b[0m             \u001b[0mself\u001b[0m\u001b[1;33m.\u001b[0m\u001b[0mjava_parameters\u001b[0m\u001b[1;33m,\u001b[0m \u001b[0mself\u001b[0m\u001b[1;33m.\u001b[0m\u001b[0mpython_parameters\u001b[0m\u001b[1;33m,\u001b[0m\u001b[1;33m\u001b[0m\u001b[1;33m\u001b[0m\u001b[0m\n\u001b[0;32m    290\u001b[0m             self.gateway_property, self)\n\u001b[1;32m--> 291\u001b[1;33m         \u001b[0mconnection\u001b[0m\u001b[1;33m.\u001b[0m\u001b[0mconnect_to_java_server\u001b[0m\u001b[1;33m(\u001b[0m\u001b[1;33m)\u001b[0m\u001b[1;33m\u001b[0m\u001b[1;33m\u001b[0m\u001b[0m\n\u001b[0m\u001b[0;32m    292\u001b[0m         \u001b[0mself\u001b[0m\u001b[1;33m.\u001b[0m\u001b[0mset_thread_connection\u001b[0m\u001b[1;33m(\u001b[0m\u001b[0mconnection\u001b[0m\u001b[1;33m)\u001b[0m\u001b[1;33m\u001b[0m\u001b[1;33m\u001b[0m\u001b[0m\n\u001b[0;32m    293\u001b[0m         \u001b[1;32mreturn\u001b[0m \u001b[0mconnection\u001b[0m\u001b[1;33m\u001b[0m\u001b[1;33m\u001b[0m\u001b[0m\n",
      "\u001b[1;32m~\\anaconda3\\lib\\site-packages\\py4j\\clientserver.py\u001b[0m in \u001b[0;36mconnect_to_java_server\u001b[1;34m(self)\u001b[0m\n\u001b[0;32m    436\u001b[0m                 self.socket = self.ssl_context.wrap_socket(\n\u001b[0;32m    437\u001b[0m                     self.socket, server_hostname=self.java_address)\n\u001b[1;32m--> 438\u001b[1;33m             \u001b[0mself\u001b[0m\u001b[1;33m.\u001b[0m\u001b[0msocket\u001b[0m\u001b[1;33m.\u001b[0m\u001b[0mconnect\u001b[0m\u001b[1;33m(\u001b[0m\u001b[1;33m(\u001b[0m\u001b[0mself\u001b[0m\u001b[1;33m.\u001b[0m\u001b[0mjava_address\u001b[0m\u001b[1;33m,\u001b[0m \u001b[0mself\u001b[0m\u001b[1;33m.\u001b[0m\u001b[0mjava_port\u001b[0m\u001b[1;33m)\u001b[0m\u001b[1;33m)\u001b[0m\u001b[1;33m\u001b[0m\u001b[1;33m\u001b[0m\u001b[0m\n\u001b[0m\u001b[0;32m    439\u001b[0m             \u001b[0mself\u001b[0m\u001b[1;33m.\u001b[0m\u001b[0mstream\u001b[0m \u001b[1;33m=\u001b[0m \u001b[0mself\u001b[0m\u001b[1;33m.\u001b[0m\u001b[0msocket\u001b[0m\u001b[1;33m.\u001b[0m\u001b[0mmakefile\u001b[0m\u001b[1;33m(\u001b[0m\u001b[1;34m\"rb\"\u001b[0m\u001b[1;33m)\u001b[0m\u001b[1;33m\u001b[0m\u001b[1;33m\u001b[0m\u001b[0m\n\u001b[0;32m    440\u001b[0m             \u001b[0mself\u001b[0m\u001b[1;33m.\u001b[0m\u001b[0mis_connected\u001b[0m \u001b[1;33m=\u001b[0m \u001b[1;32mTrue\u001b[0m\u001b[1;33m\u001b[0m\u001b[1;33m\u001b[0m\u001b[0m\n",
      "\u001b[1;31mConnectionRefusedError\u001b[0m: [WinError 10061] No connection could be made because the target machine actively refused it"
     ]
    }
   ],
   "source": [
    "from pyspark.ml.feature import VectorAssembler, StringIndexer\n",
    "from pyspark.ml.classification import LogisticRegression\n",
    "from pyspark.ml.evaluation import MulticlassClassificationEvaluator\n",
    "import time\n",
    "# Drop the irrelevant columns\n",
    "data = music.drop('index_id','track_id', 'artists', 'album_name','mode',\n",
    "                             'track_name','key','duration_ms','explicit', 'spotify_release_date')\n",
    "\n",
    "# Convert the genre column to numerical labels\n",
    "labelIndexer = StringIndexer(inputCol='track_genre', outputCol='label').fit(data)\n",
    "data = labelIndexer.transform(data)\n",
    "data = data.drop(\"track_genre\")\n",
    "# # Split the data into training and test sets\n",
    "(trainingData, testData) = data.randomSplit([0.7, 0.3], seed=123)\n",
    "\n",
    "# # Assemble the features into a vector\n",
    "assembler = VectorAssembler(inputCols=data.columns, outputCol='features')\n",
    "assembled_data=assembler.setHandleInvalid(\"skip\").transform(trainingData)\n",
    "\n",
    "trainingData = assembler.transform(trainingData)\n",
    "testData = assembler.transform(testData)\n",
    "\n",
    "# Train a Multiclass Logistic Regression model\n",
    "lr = LogisticRegression(maxIter=100, regParam=0.3, elasticNetParam=0.8, family=\"multinomial\", labelCol=\"label\")\n",
    "start_time=time.time()\n",
    "lrModel = lr.fit(trainingData)\n",
    "end_time=time.time()\n",
    "fitting_time=end_time-start_time\n",
    "# Make predictions on the test set\n",
    "predictions = lrModel.transform(testData)\n",
    "\n",
    "# Evaluate the performance of the model using accuracy\n",
    "evaluator = MulticlassClassificationEvaluator(labelCol=\"label\", predictionCol=\"prediction\", metricName=\"accuracy\")\n",
    "accuracy = evaluator.evaluate(predictions)\n",
    "print(\"Accuracy: %.2f%%\" % (accuracy * 100.0))\n",
    "print(\"Time taken to fit the model: {:.2f} seconds\".format(fitting_time))\n"
   ]
  },
  {
   "cell_type": "markdown",
   "id": "f9bed63b",
   "metadata": {},
   "source": [
    "Random Forest Algorithm"
   ]
  },
  {
   "cell_type": "code",
   "execution_count": 36,
   "id": "e4d73286",
   "metadata": {},
   "outputs": [
    {
     "ename": "ConnectionRefusedError",
     "evalue": "[WinError 10061] No connection could be made because the target machine actively refused it",
     "output_type": "error",
     "traceback": [
      "\u001b[1;31m---------------------------------------------------------------------------\u001b[0m",
      "\u001b[1;31mConnectionRefusedError\u001b[0m                    Traceback (most recent call last)",
      "\u001b[1;32m~\\AppData\\Local\\Temp\\ipykernel_15104\\332063123.py\u001b[0m in \u001b[0;36m<module>\u001b[1;34m\u001b[0m\n\u001b[0;32m      5\u001b[0m \u001b[1;33m\u001b[0m\u001b[0m\n\u001b[0;32m      6\u001b[0m \u001b[1;31m# Drop the irrelevant columns\u001b[0m\u001b[1;33m\u001b[0m\u001b[1;33m\u001b[0m\u001b[0m\n\u001b[1;32m----> 7\u001b[1;33m data = music.drop('index_id','track_id', 'artists', 'album_name','mode',\n\u001b[0m\u001b[0;32m      8\u001b[0m                              'track_name','key','duration_ms','explicit', 'spotify_release_date')\n\u001b[0;32m      9\u001b[0m \u001b[1;33m\u001b[0m\u001b[0m\n",
      "\u001b[1;32m~\\anaconda3\\lib\\site-packages\\pyspark\\sql\\dataframe.py\u001b[0m in \u001b[0;36mdrop\u001b[1;34m(self, *cols)\u001b[0m\n\u001b[0;32m   3129\u001b[0m                 \u001b[1;32mif\u001b[0m \u001b[1;32mnot\u001b[0m \u001b[0misinstance\u001b[0m\u001b[1;33m(\u001b[0m\u001b[0mcol\u001b[0m\u001b[1;33m,\u001b[0m \u001b[0mstr\u001b[0m\u001b[1;33m)\u001b[0m\u001b[1;33m:\u001b[0m\u001b[1;33m\u001b[0m\u001b[1;33m\u001b[0m\u001b[0m\n\u001b[0;32m   3130\u001b[0m                     \u001b[1;32mraise\u001b[0m \u001b[0mTypeError\u001b[0m\u001b[1;33m(\u001b[0m\u001b[1;34m\"each col in the param list should be a string\"\u001b[0m\u001b[1;33m)\u001b[0m\u001b[1;33m\u001b[0m\u001b[1;33m\u001b[0m\u001b[0m\n\u001b[1;32m-> 3131\u001b[1;33m             \u001b[0mjdf\u001b[0m \u001b[1;33m=\u001b[0m \u001b[0mself\u001b[0m\u001b[1;33m.\u001b[0m\u001b[0m_jdf\u001b[0m\u001b[1;33m.\u001b[0m\u001b[0mdrop\u001b[0m\u001b[1;33m(\u001b[0m\u001b[0mself\u001b[0m\u001b[1;33m.\u001b[0m\u001b[0m_jseq\u001b[0m\u001b[1;33m(\u001b[0m\u001b[0mcols\u001b[0m\u001b[1;33m)\u001b[0m\u001b[1;33m)\u001b[0m\u001b[1;33m\u001b[0m\u001b[1;33m\u001b[0m\u001b[0m\n\u001b[0m\u001b[0;32m   3132\u001b[0m \u001b[1;33m\u001b[0m\u001b[0m\n\u001b[0;32m   3133\u001b[0m         \u001b[1;32mreturn\u001b[0m \u001b[0mDataFrame\u001b[0m\u001b[1;33m(\u001b[0m\u001b[0mjdf\u001b[0m\u001b[1;33m,\u001b[0m \u001b[0mself\u001b[0m\u001b[1;33m.\u001b[0m\u001b[0msparkSession\u001b[0m\u001b[1;33m)\u001b[0m\u001b[1;33m\u001b[0m\u001b[1;33m\u001b[0m\u001b[0m\n",
      "\u001b[1;32m~\\anaconda3\\lib\\site-packages\\pyspark\\sql\\dataframe.py\u001b[0m in \u001b[0;36m_jseq\u001b[1;34m(self, cols, converter)\u001b[0m\n\u001b[0;32m   1739\u001b[0m     ) -> JavaObject:\n\u001b[0;32m   1740\u001b[0m         \u001b[1;34m\"\"\"Return a JVM Seq of Columns from a list of Column or names\"\"\"\u001b[0m\u001b[1;33m\u001b[0m\u001b[1;33m\u001b[0m\u001b[0m\n\u001b[1;32m-> 1741\u001b[1;33m         \u001b[1;32mreturn\u001b[0m \u001b[0m_to_seq\u001b[0m\u001b[1;33m(\u001b[0m\u001b[0mself\u001b[0m\u001b[1;33m.\u001b[0m\u001b[0msparkSession\u001b[0m\u001b[1;33m.\u001b[0m\u001b[0m_sc\u001b[0m\u001b[1;33m,\u001b[0m \u001b[0mcols\u001b[0m\u001b[1;33m,\u001b[0m \u001b[0mconverter\u001b[0m\u001b[1;33m)\u001b[0m\u001b[1;33m\u001b[0m\u001b[1;33m\u001b[0m\u001b[0m\n\u001b[0m\u001b[0;32m   1742\u001b[0m \u001b[1;33m\u001b[0m\u001b[0m\n\u001b[0;32m   1743\u001b[0m     \u001b[1;32mdef\u001b[0m \u001b[0m_jmap\u001b[0m\u001b[1;33m(\u001b[0m\u001b[0mself\u001b[0m\u001b[1;33m,\u001b[0m \u001b[0mjm\u001b[0m\u001b[1;33m:\u001b[0m \u001b[0mDict\u001b[0m\u001b[1;33m)\u001b[0m \u001b[1;33m->\u001b[0m \u001b[0mJavaObject\u001b[0m\u001b[1;33m:\u001b[0m\u001b[1;33m\u001b[0m\u001b[1;33m\u001b[0m\u001b[0m\n",
      "\u001b[1;32m~\\anaconda3\\lib\\site-packages\\pyspark\\sql\\column.py\u001b[0m in \u001b[0;36m_to_seq\u001b[1;34m(sc, cols, converter)\u001b[0m\n\u001b[0;32m     86\u001b[0m         \u001b[0mcols\u001b[0m \u001b[1;33m=\u001b[0m \u001b[1;33m[\u001b[0m\u001b[0mconverter\u001b[0m\u001b[1;33m(\u001b[0m\u001b[0mc\u001b[0m\u001b[1;33m)\u001b[0m \u001b[1;32mfor\u001b[0m \u001b[0mc\u001b[0m \u001b[1;32min\u001b[0m \u001b[0mcols\u001b[0m\u001b[1;33m]\u001b[0m\u001b[1;33m\u001b[0m\u001b[1;33m\u001b[0m\u001b[0m\n\u001b[0;32m     87\u001b[0m     \u001b[1;32massert\u001b[0m \u001b[0msc\u001b[0m\u001b[1;33m.\u001b[0m\u001b[0m_jvm\u001b[0m \u001b[1;32mis\u001b[0m \u001b[1;32mnot\u001b[0m \u001b[1;32mNone\u001b[0m\u001b[1;33m\u001b[0m\u001b[1;33m\u001b[0m\u001b[0m\n\u001b[1;32m---> 88\u001b[1;33m     \u001b[1;32mreturn\u001b[0m \u001b[0msc\u001b[0m\u001b[1;33m.\u001b[0m\u001b[0m_jvm\u001b[0m\u001b[1;33m.\u001b[0m\u001b[0mPythonUtils\u001b[0m\u001b[1;33m.\u001b[0m\u001b[0mtoSeq\u001b[0m\u001b[1;33m(\u001b[0m\u001b[0mcols\u001b[0m\u001b[1;33m)\u001b[0m\u001b[1;33m\u001b[0m\u001b[1;33m\u001b[0m\u001b[0m\n\u001b[0m\u001b[0;32m     89\u001b[0m \u001b[1;33m\u001b[0m\u001b[0m\n\u001b[0;32m     90\u001b[0m \u001b[1;33m\u001b[0m\u001b[0m\n",
      "\u001b[1;32m~\\anaconda3\\lib\\site-packages\\py4j\\java_gateway.py\u001b[0m in \u001b[0;36m__getattr__\u001b[1;34m(self, name)\u001b[0m\n\u001b[0;32m   1707\u001b[0m             \u001b[1;32mreturn\u001b[0m \u001b[0mUserHelpAutoCompletion\u001b[0m\u001b[1;33m(\u001b[0m\u001b[1;33m)\u001b[0m\u001b[1;33m\u001b[0m\u001b[1;33m\u001b[0m\u001b[0m\n\u001b[0;32m   1708\u001b[0m \u001b[1;33m\u001b[0m\u001b[0m\n\u001b[1;32m-> 1709\u001b[1;33m         answer = self._gateway_client.send_command(\n\u001b[0m\u001b[0;32m   1710\u001b[0m             \u001b[0mproto\u001b[0m\u001b[1;33m.\u001b[0m\u001b[0mREFLECTION_COMMAND_NAME\u001b[0m \u001b[1;33m+\u001b[0m\u001b[1;33m\u001b[0m\u001b[1;33m\u001b[0m\u001b[0m\n\u001b[0;32m   1711\u001b[0m             \u001b[0mproto\u001b[0m\u001b[1;33m.\u001b[0m\u001b[0mREFL_GET_UNKNOWN_SUB_COMMAND_NAME\u001b[0m \u001b[1;33m+\u001b[0m \u001b[0mname\u001b[0m \u001b[1;33m+\u001b[0m \u001b[1;34m\"\\n\"\u001b[0m \u001b[1;33m+\u001b[0m \u001b[0mself\u001b[0m\u001b[1;33m.\u001b[0m\u001b[0m_id\u001b[0m \u001b[1;33m+\u001b[0m\u001b[1;33m\u001b[0m\u001b[1;33m\u001b[0m\u001b[0m\n",
      "\u001b[1;32m~\\anaconda3\\lib\\site-packages\\py4j\\java_gateway.py\u001b[0m in \u001b[0;36msend_command\u001b[1;34m(self, command, retry, binary)\u001b[0m\n\u001b[0;32m   1034\u001b[0m          \u001b[1;32mif\u001b[0m\u001b[0;31m \u001b[0m\u001b[0;31m`\u001b[0m\u001b[0mbinary\u001b[0m\u001b[0;31m`\u001b[0m \u001b[1;32mis\u001b[0m\u001b[0;31m \u001b[0m\u001b[0;31m`\u001b[0m\u001b[1;32mTrue\u001b[0m\u001b[0;31m`\u001b[0m\u001b[1;33m.\u001b[0m\u001b[1;33m\u001b[0m\u001b[1;33m\u001b[0m\u001b[0m\n\u001b[0;32m   1035\u001b[0m         \"\"\"\n\u001b[1;32m-> 1036\u001b[1;33m         \u001b[0mconnection\u001b[0m \u001b[1;33m=\u001b[0m \u001b[0mself\u001b[0m\u001b[1;33m.\u001b[0m\u001b[0m_get_connection\u001b[0m\u001b[1;33m(\u001b[0m\u001b[1;33m)\u001b[0m\u001b[1;33m\u001b[0m\u001b[1;33m\u001b[0m\u001b[0m\n\u001b[0m\u001b[0;32m   1037\u001b[0m         \u001b[1;32mtry\u001b[0m\u001b[1;33m:\u001b[0m\u001b[1;33m\u001b[0m\u001b[1;33m\u001b[0m\u001b[0m\n\u001b[0;32m   1038\u001b[0m             \u001b[0mresponse\u001b[0m \u001b[1;33m=\u001b[0m \u001b[0mconnection\u001b[0m\u001b[1;33m.\u001b[0m\u001b[0msend_command\u001b[0m\u001b[1;33m(\u001b[0m\u001b[0mcommand\u001b[0m\u001b[1;33m)\u001b[0m\u001b[1;33m\u001b[0m\u001b[1;33m\u001b[0m\u001b[0m\n",
      "\u001b[1;32m~\\anaconda3\\lib\\site-packages\\py4j\\clientserver.py\u001b[0m in \u001b[0;36m_get_connection\u001b[1;34m(self)\u001b[0m\n\u001b[0;32m    282\u001b[0m \u001b[1;33m\u001b[0m\u001b[0m\n\u001b[0;32m    283\u001b[0m         \u001b[1;32mif\u001b[0m \u001b[0mconnection\u001b[0m \u001b[1;32mis\u001b[0m \u001b[1;32mNone\u001b[0m \u001b[1;32mor\u001b[0m \u001b[0mconnection\u001b[0m\u001b[1;33m.\u001b[0m\u001b[0msocket\u001b[0m \u001b[1;32mis\u001b[0m \u001b[1;32mNone\u001b[0m\u001b[1;33m:\u001b[0m\u001b[1;33m\u001b[0m\u001b[1;33m\u001b[0m\u001b[0m\n\u001b[1;32m--> 284\u001b[1;33m             \u001b[0mconnection\u001b[0m \u001b[1;33m=\u001b[0m \u001b[0mself\u001b[0m\u001b[1;33m.\u001b[0m\u001b[0m_create_new_connection\u001b[0m\u001b[1;33m(\u001b[0m\u001b[1;33m)\u001b[0m\u001b[1;33m\u001b[0m\u001b[1;33m\u001b[0m\u001b[0m\n\u001b[0m\u001b[0;32m    285\u001b[0m         \u001b[1;32mreturn\u001b[0m \u001b[0mconnection\u001b[0m\u001b[1;33m\u001b[0m\u001b[1;33m\u001b[0m\u001b[0m\n\u001b[0;32m    286\u001b[0m \u001b[1;33m\u001b[0m\u001b[0m\n",
      "\u001b[1;32m~\\anaconda3\\lib\\site-packages\\py4j\\clientserver.py\u001b[0m in \u001b[0;36m_create_new_connection\u001b[1;34m(self)\u001b[0m\n\u001b[0;32m    289\u001b[0m             \u001b[0mself\u001b[0m\u001b[1;33m.\u001b[0m\u001b[0mjava_parameters\u001b[0m\u001b[1;33m,\u001b[0m \u001b[0mself\u001b[0m\u001b[1;33m.\u001b[0m\u001b[0mpython_parameters\u001b[0m\u001b[1;33m,\u001b[0m\u001b[1;33m\u001b[0m\u001b[1;33m\u001b[0m\u001b[0m\n\u001b[0;32m    290\u001b[0m             self.gateway_property, self)\n\u001b[1;32m--> 291\u001b[1;33m         \u001b[0mconnection\u001b[0m\u001b[1;33m.\u001b[0m\u001b[0mconnect_to_java_server\u001b[0m\u001b[1;33m(\u001b[0m\u001b[1;33m)\u001b[0m\u001b[1;33m\u001b[0m\u001b[1;33m\u001b[0m\u001b[0m\n\u001b[0m\u001b[0;32m    292\u001b[0m         \u001b[0mself\u001b[0m\u001b[1;33m.\u001b[0m\u001b[0mset_thread_connection\u001b[0m\u001b[1;33m(\u001b[0m\u001b[0mconnection\u001b[0m\u001b[1;33m)\u001b[0m\u001b[1;33m\u001b[0m\u001b[1;33m\u001b[0m\u001b[0m\n\u001b[0;32m    293\u001b[0m         \u001b[1;32mreturn\u001b[0m \u001b[0mconnection\u001b[0m\u001b[1;33m\u001b[0m\u001b[1;33m\u001b[0m\u001b[0m\n",
      "\u001b[1;32m~\\anaconda3\\lib\\site-packages\\py4j\\clientserver.py\u001b[0m in \u001b[0;36mconnect_to_java_server\u001b[1;34m(self)\u001b[0m\n\u001b[0;32m    436\u001b[0m                 self.socket = self.ssl_context.wrap_socket(\n\u001b[0;32m    437\u001b[0m                     self.socket, server_hostname=self.java_address)\n\u001b[1;32m--> 438\u001b[1;33m             \u001b[0mself\u001b[0m\u001b[1;33m.\u001b[0m\u001b[0msocket\u001b[0m\u001b[1;33m.\u001b[0m\u001b[0mconnect\u001b[0m\u001b[1;33m(\u001b[0m\u001b[1;33m(\u001b[0m\u001b[0mself\u001b[0m\u001b[1;33m.\u001b[0m\u001b[0mjava_address\u001b[0m\u001b[1;33m,\u001b[0m \u001b[0mself\u001b[0m\u001b[1;33m.\u001b[0m\u001b[0mjava_port\u001b[0m\u001b[1;33m)\u001b[0m\u001b[1;33m)\u001b[0m\u001b[1;33m\u001b[0m\u001b[1;33m\u001b[0m\u001b[0m\n\u001b[0m\u001b[0;32m    439\u001b[0m             \u001b[0mself\u001b[0m\u001b[1;33m.\u001b[0m\u001b[0mstream\u001b[0m \u001b[1;33m=\u001b[0m \u001b[0mself\u001b[0m\u001b[1;33m.\u001b[0m\u001b[0msocket\u001b[0m\u001b[1;33m.\u001b[0m\u001b[0mmakefile\u001b[0m\u001b[1;33m(\u001b[0m\u001b[1;34m\"rb\"\u001b[0m\u001b[1;33m)\u001b[0m\u001b[1;33m\u001b[0m\u001b[1;33m\u001b[0m\u001b[0m\n\u001b[0;32m    440\u001b[0m             \u001b[0mself\u001b[0m\u001b[1;33m.\u001b[0m\u001b[0mis_connected\u001b[0m \u001b[1;33m=\u001b[0m \u001b[1;32mTrue\u001b[0m\u001b[1;33m\u001b[0m\u001b[1;33m\u001b[0m\u001b[0m\n",
      "\u001b[1;31mConnectionRefusedError\u001b[0m: [WinError 10061] No connection could be made because the target machine actively refused it"
     ]
    }
   ],
   "source": [
    "from pyspark.ml.feature import VectorAssembler\n",
    "from pyspark.ml.classification import RandomForestClassifier\n",
    "from pyspark.ml.evaluation import MulticlassClassificationEvaluator\n",
    "import time\n",
    "\n",
    "# Drop the irrelevant columns\n",
    "data = music.drop('index_id','track_id', 'artists', 'album_name','mode',\n",
    "                             'track_name','key','duration_ms','explicit', 'spotify_release_date')\n",
    "\n",
    "# Convert the genre column to numerical labels\n",
    "labelIndexer = StringIndexer(inputCol='track_genre', outputCol='label').fit(data)\n",
    "data = labelIndexer.transform(data)\n",
    "data = data.drop(\"track_genre\")\n",
    "# # Split the data into training and test sets\n",
    "(trainingData, testData) = data.randomSplit([0.7, 0.3], seed=123)\n",
    "\n",
    "# # Assemble the features into a vector\n",
    "assembler = VectorAssembler(inputCols=data.columns, outputCol='features')\n",
    "assembled_data=assembler.setHandleInvalid(\"skip\").transform(data)\n",
    "\n",
    "print(data.columns)\n",
    "trainingData = assembler.transform(trainingData)\n",
    "testData = assembler.transform(testData)\n",
    "\n",
    "# Train the Random Forest model\n",
    "rf = RandomForestClassifier(numTrees=20,maxBins=200, featureSubsetStrategy='all', labelCol='label')\n",
    "start_time=time.time()\n",
    "rfModel = rf.fit(trainingData)\n",
    "end_time=time.time()\n",
    "fitting_time=end_time-start_time\n",
    "\n",
    "# Make predictions on the test data\n",
    "predictions = rfModel.transform(testData)\n",
    "\n",
    "# # Evaluate the accuracy of the model\n",
    "evaluator = MulticlassClassificationEvaluator(labelCol='label', predictionCol='prediction', metricName='accuracy')\n",
    "accuracy = evaluator.evaluate(predictions)\n",
    "print(\"Accuracy: %.2f%%\" % (accuracy * 100.0))\n",
    "print(\"Time taken to fit the model: {:.2f} seconds\".format(fitting_time))"
   ]
  },
  {
   "cell_type": "code",
   "execution_count": null,
   "id": "353fa8fd",
   "metadata": {},
   "outputs": [],
   "source": []
  },
  {
   "cell_type": "code",
   "execution_count": null,
   "id": "d015efa1",
   "metadata": {},
   "outputs": [],
   "source": []
  },
  {
   "cell_type": "code",
   "execution_count": null,
   "id": "d5982d80",
   "metadata": {},
   "outputs": [],
   "source": []
  }
 ],
 "metadata": {
  "kernelspec": {
   "display_name": "Python 3 (ipykernel)",
   "language": "python",
   "name": "python3"
  },
  "language_info": {
   "codemirror_mode": {
    "name": "ipython",
    "version": 3
   },
   "file_extension": ".py",
   "mimetype": "text/x-python",
   "name": "python",
   "nbconvert_exporter": "python",
   "pygments_lexer": "ipython3",
   "version": "3.9.13"
  }
 },
 "nbformat": 4,
 "nbformat_minor": 5
}
